{
  "cells": [
    {
      "cell_type": "markdown",
      "metadata": {
        "id": "fSHZMAYvnHSk"
      },
      "source": [
        "## Script to extract the files (photos) from within folders.\n",
        "\n",
        "#### Note DOES NOT need to be ran again"
      ]
    },
    {
      "cell_type": "code",
      "execution_count": null,
      "metadata": {
        "id": "lI1xGaL8nac-",
        "colab": {
          "base_uri": "https://localhost:8080/"
        },
        "outputId": "4da538f6-d182-4890-bd51-61a9e98cf9e8"
      },
      "outputs": [
        {
          "output_type": "stream",
          "name": "stdout",
          "text": [
            "Mounted at /content/drive\n"
          ]
        }
      ],
      "source": [
        "# adding access to google drive\n",
        "from google.colab import drive\n",
        "drive.mount('/content/drive')"
      ]
    },
    {
      "cell_type": "markdown",
      "metadata": {
        "id": "IOxFqx2unLVZ"
      },
      "source": [
        "## Importing Data\n",
        "\n",
        "### https://www.kaggle.com/datasets/ashishjangra27/face-mask-12k-images-dataset"
      ]
    },
    {
      "cell_type": "code",
      "execution_count": null,
      "metadata": {
        "id": "W0PW9rEknFec"
      },
      "outputs": [],
      "source": [
        "import os\n",
        "import shutil\n",
        "import pandas as pd\n",
        "import sklearn\n",
        "import random\n",
        "random.seed(2)\n",
        "\n",
        "import torch \n",
        "import torchvision\n",
        "\n",
        "# cv2 to view images\n",
        "import cv2\n",
        "\n",
        "#Ideally have the same version numbers or similar\n",
        "!python --version #3.7.13\n",
        "print(torch.__version__) # 1.11.0+cu113\n",
        "print(np.__version__) # 1.21.6\n",
        "print(sklearn.__version__) # 1.0.2"
      ]
    },
    {
      "cell_type": "code",
      "source": [
        "# ## TESTING DONT RUN CAN ONLY BE RAN ONCE ****\n",
        "# # extract the subfolders from the main folder\n",
        "RUN = False\n",
        "if RUN:\n",
        "  dataset = r\"/content/drive/MyDrive/comp472-MaskDetector/Dataset\"\n",
        "  path_subfolders = [f.path for f in os.scandir(dataset) if f.is_dir()]\n",
        "\n",
        "  print(path_subfolders)\n",
        "\n",
        "  train_dir = path_subfolders[0]\n",
        "  #test_dir = path_subfolders[0]\n",
        "  val_dir = path_subfolders[1]\n",
        "\n",
        "  # # extract subfolders from subfolders\n",
        "  path_trainsubfolders = [f.path for f in os.scandir(train_dir) if f.is_dir()]\n",
        "  #path_testsubfolders = [f.path for f in os.scandir(test_dir) if f.is_dir()]\n",
        "  path_valsubfolders = [f.path for f in os.scandir(val_dir) if f.is_dir()]\n",
        "  print(path_valsubfolders)\n",
        "\n",
        "  # # # for each subfolder in subfolders, grab files from src path (subfolder) and move it to destination folder\n",
        "  for subPath in path_subfolders: # train, test, val\n",
        "\n",
        "    if subPath == train_dir:\n",
        "\n",
        "      for subs in path_trainsubfolders: # nomask, mask\n",
        "        for f in os.listdir(subs):\n",
        "          # grab file from original dir\n",
        "          src = os.path.join(subs, f)\n",
        "          #create unique name for file\n",
        "          new_file = str(random.random())+f\n",
        "          # place file in main dataset\n",
        "          dst = os.path.join(dataset, new_file) #\n",
        "          shutil.move(src, dst)\n",
        "\n",
        "        ## remove subfolder    \n",
        "        shutil.rmtree(subs)\n",
        "\n",
        "\n",
        "\n",
        "\n",
        "      if subPath == test_dir:\n",
        "\n",
        "        for sub in path_testsubfolders: # nomask, mask\n",
        "            for f in os.listdir(sub):\n",
        "              # grab file from original dir\n",
        "              src = os.path.join(sub, f)\n",
        "              #create unique name for file\n",
        "              new_file = str(random.random())+f\n",
        "              # place file in main dataset\n",
        "              dst = os.path.join(dataset, new_file) #\n",
        "              shutil.move(src, dst)\n",
        "\n",
        "      #     # remove subfolder    \n",
        "            shutil.rmtree(sub)\n",
        "      \n",
        "      if subPath == val_dir:\n",
        "\n",
        "        for sub in path_valsubfolders: # nomask, mask\n",
        "                \n",
        "          for f in os.listdir(sub):\n",
        "            # grab file from original dir\n",
        "            src = os.path.join(sub, f)\n",
        "            #create unique name for file\n",
        "            new_file = str(random.random())+f\n",
        "            # place file in main dataset\n",
        "            dst = os.path.join(dataset, new_file) #\n",
        "            shutil.move(src, dst)\n",
        "\n",
        "          # remove subfolder    \n",
        "          shutil.rmtree(sub)\n",
        "\n",
        "      shutil.rmtree(subPath)\n"
      ],
      "metadata": {
        "id": "lCC4MnXs1R0G"
      },
      "execution_count": null,
      "outputs": []
    },
    {
      "cell_type": "code",
      "source": [
        "list = os.listdir(dataset) \n",
        "number_files = len(list)\n",
        "print(number_files)"
      ],
      "metadata": {
        "colab": {
          "base_uri": "https://localhost:8080/"
        },
        "id": "5qsoRaVu-lcw",
        "outputId": "539fabfd-9bdb-4087-fd17-3cc20b8261d7"
      },
      "execution_count": null,
      "outputs": [
        {
          "output_type": "stream",
          "name": "stdout",
          "text": [
            "11969\n"
          ]
        }
      ]
    },
    {
      "cell_type": "code",
      "execution_count": null,
      "metadata": {
        "id": "Zkd66xLSnp-b",
        "colab": {
          "base_uri": "https://localhost:8080/",
          "height": 118
        },
        "outputId": "fc949a64-c4bc-49e1-b63e-1d1e9f5a9efb"
      },
      "outputs": [
        {
          "output_type": "display_data",
          "data": {
            "text/plain": [
              "<PIL.Image.Image image mode=RGB size=101x101 at 0x7F066DC40A50>"
            ],
            "image/png": "[encoded data removed]"
          },
          "metadata": {}
        }
      ],
      "source": [
        "# View a sample Image\n",
        "import cv2\n",
        "from google.colab.patches import cv2_imshow\n",
        "\n",
        "img = cv2.imread(\"/content/drive/MyDrive/comp472-MaskDetector/Dataset/0.000450885337116901933102.png\")\n",
        "orig_img = cv2.cvtColor(img, cv2.COLOR_RGB2BGR)\n",
        "cv2_imshow(img)\n",
        "cv2.waitKey(0)\n",
        "cv2.destroyAllWindows()\n"
      ]
    },
    {
      "cell_type": "code",
      "source": [
        "from tensorflow.keras.applications.inception_v3 import InceptionV3\n",
        "from tensorflow.keras.applications.inception_v3 import preprocess_input\n",
        "from tensorflow.keras.preprocessing import image\n",
        "from tensorflow.keras.preprocessing.image import img_to_array\n",
        "from sklearn.cluster import KMeans\n",
        "\n",
        "# func to extract features using transfer learning \n",
        "def image_features(dataset):\n",
        "  model = InceptionV3(weights='imagenet', include_top=False)\n",
        "  features = [];\n",
        "  img_name = [];\n",
        "  for i in os.listdir(dataset):\n",
        "      img=os.path.join(dataset, i)\n",
        "      new_img=image.load_img(img, target_size=(100,100))\n",
        "      x = img_to_array(new_img)\n",
        "      x=np.expand_dims(x,axis=0)\n",
        "      x=preprocess_input(x)\n",
        "      feat=model.predict(x)\n",
        "      feat=feat.flatten()\n",
        "      features.append(feat)\n",
        "      img_name.append(i)\n",
        "  return features,img_name\n",
        "\n",
        "img_features,img_name=image_features(dataset)"
      ],
      "metadata": {
        "id": "jsBHRpP_FPLo"
      },
      "execution_count": null,
      "outputs": []
    },
    {
      "cell_type": "code",
      "source": [
        "#Creating Clusters\n",
        "k = 4\n",
        "clusters = KMeans(k, random_state = 40)\n",
        "clusters.fit(img_features)"
      ],
      "metadata": {
        "id": "07QT-bO6FTyo"
      },
      "execution_count": null,
      "outputs": []
    },
    {
      "cell_type": "code",
      "source": [
        "image_cluster = pd.DataFrame(img_name,columns=['image'])\n",
        "image_cluster[\"clusterid\"] = clusters.labels_\n",
        "image_cluster"
      ],
      "metadata": {
        "id": "ZIHXOfglFWbS"
      },
      "execution_count": null,
      "outputs": []
    },
    {
      "cell_type": "code",
      "source": [
        "image_cluster['clusterid'].value_counts()"
      ],
      "metadata": {
        "id": "vGPt2xM-Fpe2"
      },
      "execution_count": null,
      "outputs": []
    },
    {
      "cell_type": "code",
      "source": [
        "# Made folder to seperate images\n",
        "os.mkdir(dataset+\"/\"+'noMask')\n",
        "os.mkdir(dataset+\"/\"+'clothMask')\n",
        "os.mkdir(dataset+\"/\"+'surgicalMask')\n",
        "os.mkdir(dataset+\"/\"+'N95Mask')\n",
        "\n",
        "# # Images will be seperated according to cluster they belong\n",
        "for i in range(len(image_cluster)):\n",
        "    if image_cluster['clusterid'][i]==0:\n",
        "        shutil.move(os.path.join(dataset, image_cluster['image'][i]), dataset+\"/\"+'surgicalMask')\n",
        "    elif image_cluster['clusterid'][i]==1:\n",
        "        shutil.move(os.path.join(dataset, image_cluster['image'][i]), dataset+\"/\"+'noMask')\n",
        "    elif image_cluster['clusterid'][i]==2:\n",
        "        shutil.move(os.path.join(dataset, image_cluster['image'][i]), dataset+\"/\"+'clothMask')\n",
        "    elif image_cluster['clusterid'][i]==3:\n",
        "        shutil.move(os.path.join(dataset, image_cluster['image'][i]), dataset+\"/\"+'N95Mask')"
      ],
      "metadata": {
        "id": "cOcvjHNGFrIN"
      },
      "execution_count": null,
      "outputs": []
    },
    {
      "cell_type": "code",
      "source": [
        "# resize images to (32,32,3) so they're all the same size. Original size ~(100,100,3)\n",
        "import PIL\n",
        "from PIL import Image\n",
        "\n",
        "path_subfolders = [f.path for f in os.scandir(dataset) if f.is_dir()]\n",
        "\n",
        "# print(cv2.imread(\"/content/drive/MyDrive/comp472-MaskDetector/fake dataset/N95Mask1/Copy of 0.012824260849167102Augmented_833_8634013.png\").shape)\n",
        "\n",
        "# for every image in each subfolder,resize images to (32,32,3) so they're all the same size. Original size ~(100,100,3)\n",
        "for subfolder in path_subfolders: \n",
        "  for file in os.listdir(subfolder):\n",
        "    f_img = subfolder+\"/\"+file\n",
        "    img = Image.open(f_img)\n",
        "    img = img.resize((32,32))\n",
        "    img.save(f_img)\n"
      ],
      "metadata": {
        "id": "0wQWdf4fFr57"
      },
      "execution_count": null,
      "outputs": []
    }
  ],
  "metadata": {
    "colab": {
      "name": "fileExtrator_MaskDetector.ipynb",
      "provenance": [],
      "collapsed_sections": []
    },
    "kernelspec": {
      "display_name": "Python 3",
      "name": "python3"
    },
    "language_info": {
      "name": "python"
    }
  },
  "nbformat": 4,
  "nbformat_minor": 0
}